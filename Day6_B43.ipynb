{
 "cells": [
  {
   "cell_type": "code",
   "execution_count": null,
   "metadata": {},
   "outputs": [],
   "source": [
    "continuation with lists:"
   ]
  },
  {
   "cell_type": "code",
   "execution_count": null,
   "metadata": {},
   "outputs": [],
   "source": []
  },
  {
   "cell_type": "code",
   "execution_count": 1,
   "metadata": {},
   "outputs": [],
   "source": [
    "students = ['shiva','mujeeb','rishika','priyanka','naveen','kiran']"
   ]
  },
  {
   "cell_type": "code",
   "execution_count": 2,
   "metadata": {},
   "outputs": [
    {
     "name": "stdout",
     "output_type": "stream",
     "text": [
      "['shiva', 'mujeeb', 'rishika', 'priyanka', 'naveen', 'kiran']\n"
     ]
    }
   ],
   "source": [
    "print(students)"
   ]
  },
  {
   "cell_type": "code",
   "execution_count": 3,
   "metadata": {},
   "outputs": [
    {
     "data": {
      "text/plain": [
       "list"
      ]
     },
     "execution_count": 3,
     "metadata": {},
     "output_type": "execute_result"
    }
   ],
   "source": [
    "type(students)"
   ]
  },
  {
   "cell_type": "code",
   "execution_count": null,
   "metadata": {},
   "outputs": [],
   "source": []
  },
  {
   "cell_type": "code",
   "execution_count": null,
   "metadata": {},
   "outputs": [],
   "source": [
    "# req : i want to appreciate all the above students for sending the practice file regularly...?"
   ]
  },
  {
   "cell_type": "code",
   "execution_count": null,
   "metadata": {},
   "outputs": [],
   "source": []
  },
  {
   "cell_type": "code",
   "execution_count": 4,
   "metadata": {},
   "outputs": [
    {
     "name": "stdout",
     "output_type": "stream",
     "text": [
      " keep up the good work,Shiva\n"
     ]
    }
   ],
   "source": [
    "print(f\" keep up the good work, {students[0].title()}\")"
   ]
  },
  {
   "cell_type": "code",
   "execution_count": 5,
   "metadata": {},
   "outputs": [
    {
     "name": "stdout",
     "output_type": "stream",
     "text": [
      " keep up the good work, Mujeeb\n"
     ]
    }
   ],
   "source": [
    "print(f\" keep up the good work, {students[1].title()}\")"
   ]
  },
  {
   "cell_type": "code",
   "execution_count": null,
   "metadata": {},
   "outputs": [],
   "source": []
  },
  {
   "cell_type": "code",
   "execution_count": null,
   "metadata": {},
   "outputs": [],
   "source": [
    "Introduction to for loops in python:"
   ]
  },
  {
   "cell_type": "code",
   "execution_count": null,
   "metadata": {},
   "outputs": [],
   "source": [
    "# General syntax of a for loop:"
   ]
  },
  {
   "cell_type": "code",
   "execution_count": null,
   "metadata": {},
   "outputs": [],
   "source": [
    "#tempvar ---> can be any name you want.\n",
    "\n",
    "# students is the main variable\n",
    "for tempvar in mainvar:\n",
    "    print(tempvar)   # indentation .... is mandatory ....without it you will get error"
   ]
  },
  {
   "cell_type": "code",
   "execution_count": null,
   "metadata": {},
   "outputs": [],
   "source": []
  },
  {
   "cell_type": "code",
   "execution_count": 6,
   "metadata": {},
   "outputs": [
    {
     "name": "stdout",
     "output_type": "stream",
     "text": [
      "keep up the good work, Shiva\n",
      "keep up the good work, Mujeeb\n",
      "keep up the good work, Rishika\n",
      "keep up the good work, Priyanka\n",
      "keep up the good work, Naveen\n",
      "keep up the good work, Kiran\n"
     ]
    }
   ],
   "source": [
    "for x in students:\n",
    "    print(f\"keep up the good work, {x.title()}\")"
   ]
  },
  {
   "cell_type": "code",
   "execution_count": 8,
   "metadata": {},
   "outputs": [
    {
     "name": "stdout",
     "output_type": "stream",
     "text": [
      "Keep up the good work, Shiva\n",
      "I will be looking forward to receive your practice file of today, Shiva\n",
      "Keep up the good work, Mujeeb\n",
      "I will be looking forward to receive your practice file of today, Mujeeb\n",
      "Keep up the good work, Rishika\n",
      "I will be looking forward to receive your practice file of today, Rishika\n",
      "Keep up the good work, Priyanka\n",
      "I will be looking forward to receive your practice file of today, Priyanka\n",
      "Keep up the good work, Naveen\n",
      "I will be looking forward to receive your practice file of today, Naveen\n",
      "Keep up the good work, Kiran\n",
      "I will be looking forward to receive your practice file of today, Kiran\n"
     ]
    }
   ],
   "source": [
    "# Writing in the loop\n",
    "\n",
    "for x in students:\n",
    "    print(f\"Keep up the good work, {x.title()}\")\n",
    "    print(f\"I will be looking forward to receive your practice file of today, {x.title()}\")"
   ]
  },
  {
   "cell_type": "code",
   "execution_count": 10,
   "metadata": {},
   "outputs": [
    {
     "name": "stdout",
     "output_type": "stream",
     "text": [
      "Keep up the good work, Shiva\n",
      "I will be looking forward to receive your practice file of today, Shiva,\n",
      "\n",
      "Keep up the good work, Mujeeb\n",
      "I will be looking forward to receive your practice file of today, Mujeeb,\n",
      "\n",
      "Keep up the good work, Rishika\n",
      "I will be looking forward to receive your practice file of today, Rishika,\n",
      "\n",
      "Keep up the good work, Priyanka\n",
      "I will be looking forward to receive your practice file of today, Priyanka,\n",
      "\n",
      "Keep up the good work, Naveen\n",
      "I will be looking forward to receive your practice file of today, Naveen,\n",
      "\n",
      "Keep up the good work, Kiran\n",
      "I will be looking forward to receive your practice file of today, Kiran,\n",
      "\n"
     ]
    }
   ],
   "source": [
    "# enhancement of the code....!\n",
    "for x in students:\n",
    "    print(f\"Keep up the good work, {x.title()}\")\n",
    "    print(f\"I will be looking forward to receive your practice file of today, {x.title()},\\n\")"
   ]
  },
  {
   "cell_type": "code",
   "execution_count": 13,
   "metadata": {},
   "outputs": [
    {
     "name": "stdout",
     "output_type": "stream",
     "text": [
      "Keep up the good work, Shiva\n",
      "I will be looking forward to receive your practice file of today, Shiva,\n",
      "\n",
      "Keep up the good work, Mujeeb\n",
      "I will be looking forward to receive your practice file of today, Mujeeb,\n",
      "\n",
      "Keep up the good work, Rishika\n",
      "I will be looking forward to receive your practice file of today, Rishika,\n",
      "\n",
      "Keep up the good work, Priyanka\n",
      "I will be looking forward to receive your practice file of today, Priyanka,\n",
      "\n",
      "Keep up the good work, Naveen\n",
      "I will be looking forward to receive your practice file of today, Naveen,\n",
      "\n",
      "Keep up the good work, Kiran\n",
      "I will be looking forward to receive your practice file of today, Kiran,\n",
      "\n",
      "Thank you all for showing interest in learning python\n"
     ]
    }
   ],
   "source": [
    "# as a whole group i want to convey the message.....?\n",
    "\n",
    "\n",
    "for x in students:\n",
    "    print(f\"Keep up the good work, {x.title()}\")\n",
    "    print(f\"I will be looking forward to receive your practice file of today, {x.title()},\\n\")\n",
    "    \n",
    "print(\"Thank you all for showing interest in learning python\")"
   ]
  },
  {
   "cell_type": "code",
   "execution_count": null,
   "metadata": {},
   "outputs": [],
   "source": [
    "Writing outside the loop"
   ]
  },
  {
   "cell_type": "code",
   "execution_count": null,
   "metadata": {},
   "outputs": [],
   "source": []
  },
  {
   "cell_type": "code",
   "execution_count": null,
   "metadata": {},
   "outputs": [],
   "source": [
    "Zen of python : guiding principles"
   ]
  },
  {
   "cell_type": "code",
   "execution_count": 14,
   "metadata": {},
   "outputs": [
    {
     "name": "stdout",
     "output_type": "stream",
     "text": [
      "The Zen of Python, by Tim Peters\n",
      "\n",
      "Beautiful is better than ugly.\n",
      "Explicit is better than implicit.\n",
      "Simple is better than complex.\n",
      "Complex is better than complicated.\n",
      "Flat is better than nested.\n",
      "Sparse is better than dense.\n",
      "Readability counts.\n",
      "Special cases aren't special enough to break the rules.\n",
      "Although practicality beats purity.\n",
      "Errors should never pass silently.\n",
      "Unless explicitly silenced.\n",
      "In the face of ambiguity, refuse the temptation to guess.\n",
      "There should be one-- and preferably only one --obvious way to do it.\n",
      "Although that way may not be obvious at first unless you're Dutch.\n",
      "Now is better than never.\n",
      "Although never is often better than *right* now.\n",
      "If the implementation is hard to explain, it's a bad idea.\n",
      "If the implementation is easy to explain, it may be a good idea.\n",
      "Namespaces are one honking great idea -- let's do more of those!\n"
     ]
    }
   ],
   "source": [
    "import this"
   ]
  },
  {
   "cell_type": "code",
   "execution_count": null,
   "metadata": {},
   "outputs": [],
   "source": [
    "Note : Python is also a case sensitive language"
   ]
  }
 ],
 "metadata": {
  "kernelspec": {
   "display_name": "Python 3",
   "language": "python",
   "name": "python3"
  },
  "language_info": {
   "codemirror_mode": {
    "name": "ipython",
    "version": 3
   },
   "file_extension": ".py",
   "mimetype": "text/x-python",
   "name": "python",
   "nbconvert_exporter": "python",
   "pygments_lexer": "ipython3",
   "version": "3.8.5"
  }
 },
 "nbformat": 4,
 "nbformat_minor": 4
}
