{
 "cells": [
  {
   "cell_type": "code",
   "execution_count": null,
   "metadata": {},
   "outputs": [],
   "source": [
    "Continuation with python classes:"
   ]
  },
  {
   "cell_type": "code",
   "execution_count": null,
   "metadata": {},
   "outputs": [],
   "source": [
    "class ----> it is a high level blue print of the program, we have class keyword for defining it.\n",
    "\n",
    "methods----> a function written inside the class is called as method\n",
    "\n",
    "attributes ----> a variable written inside the class is called as attribute\n",
    "\n",
    "self ----> it is a temp placeholder\n",
    "\n",
    "objects ----> it is an access or entry point to the class methods...!"
   ]
  },
  {
   "cell_type": "code",
   "execution_count": null,
   "metadata": {},
   "outputs": [],
   "source": [
    "Introduction to constructor : it is a special method or a magical method.\n",
    "    \n",
    "    it is used to initialize the attributes or methods automatically.. \n",
    "    \n",
    "how to define a constructor : \n",
    "    def __init__() # this is the syntax defining the constructor\n",
    "    \n",
    "# it is considered as best practice for using the constructor in the program.\n"
   ]
  },
  {
   "cell_type": "code",
   "execution_count": null,
   "metadata": {},
   "outputs": [],
   "source": [
    "# scenario :  create a Dog c;lass with the parameters such as name, age and define the below methods \n",
    "\n",
    "# 1. jump\n",
    "\n",
    "# 2. rollover\n",
    "\n",
    "# 3.sit\n",
    "\n",
    "# 4. sleep\n",
    "\n",
    "# 5. details"
   ]
  },
  {
   "cell_type": "code",
   "execution_count": 1,
   "metadata": {},
   "outputs": [],
   "source": [
    "class Dog: # class declaration\n",
    "    \"\"\"create a Dog class and defining the methods\"\"\"\n",
    "    def __init__(self,name,age): # constructor\n",
    "        self.name = name\n",
    "        self.age = age\n",
    "        print('it got automatically executed')\n",
    "    \n",
    "    def jump(self):\n",
    "        print(f\" {self.name} is jumping on the command\")\n",
    "        \n",
    "    def rollover(self):\n",
    "        print(f\" {self.name} is now rolling over\") \n",
    "        \n",
    "    def sit(self):\n",
    "        print(f\" {self.name} is sitting on the command\")\n",
    "        \n",
    "    def sleep(self):\n",
    "        print(f\" {self.name} is sleeping\")\n",
    "        \n",
    "    def details(self):\n",
    "        print(f\"I have a dog name {self.name}\")\n",
    "        print(f\"{self.name} is now  {self.age} years old\")\n",
    "    "
   ]
  },
  {
   "cell_type": "code",
   "execution_count": 3,
   "metadata": {},
   "outputs": [
    {
     "name": "stdout",
     "output_type": "stream",
     "text": [
      "it got automatically executed\n"
     ]
    }
   ],
   "source": [
    "test = Dog(\"scooby\",2) # directly assigned the args and automatically executing the attributes"
   ]
  },
  {
   "cell_type": "code",
   "execution_count": 4,
   "metadata": {},
   "outputs": [
    {
     "name": "stdout",
     "output_type": "stream",
     "text": [
      " scooby is jumping on the command\n"
     ]
    }
   ],
   "source": [
    "test.jump()"
   ]
  },
  {
   "cell_type": "code",
   "execution_count": 5,
   "metadata": {},
   "outputs": [
    {
     "name": "stdout",
     "output_type": "stream",
     "text": [
      " scooby is now rolling over\n"
     ]
    }
   ],
   "source": [
    "test.rollover()"
   ]
  },
  {
   "cell_type": "code",
   "execution_count": 6,
   "metadata": {},
   "outputs": [
    {
     "name": "stdout",
     "output_type": "stream",
     "text": [
      " scooby is sitting on the command\n"
     ]
    }
   ],
   "source": [
    "test.sit()"
   ]
  },
  {
   "cell_type": "code",
   "execution_count": 7,
   "metadata": {},
   "outputs": [
    {
     "name": "stdout",
     "output_type": "stream",
     "text": [
      " scooby is sleeping\n"
     ]
    }
   ],
   "source": [
    "test.sleep()"
   ]
  },
  {
   "cell_type": "code",
   "execution_count": 8,
   "metadata": {},
   "outputs": [
    {
     "name": "stdout",
     "output_type": "stream",
     "text": [
      "I have a dog name scooby\n",
      "scooby is now  2 years old\n"
     ]
    }
   ],
   "source": [
    "test.details()"
   ]
  },
  {
   "cell_type": "code",
   "execution_count": 9,
   "metadata": {},
   "outputs": [
    {
     "name": "stdout",
     "output_type": "stream",
     "text": [
      "it got automatically executed\n"
     ]
    }
   ],
   "source": [
    "aobj=Dog('Bruno',3)"
   ]
  },
  {
   "cell_type": "code",
   "execution_count": 10,
   "metadata": {},
   "outputs": [
    {
     "name": "stdout",
     "output_type": "stream",
     "text": [
      "I have a dog name Bruno\n",
      "Bruno is now  3 years old\n"
     ]
    }
   ],
   "source": [
    "aobj.details()"
   ]
  },
  {
   "cell_type": "code",
   "execution_count": null,
   "metadata": {},
   "outputs": [],
   "source": []
  }
 ],
 "metadata": {
  "kernelspec": {
   "display_name": "Python 3",
   "language": "python",
   "name": "python3"
  },
  "language_info": {
   "codemirror_mode": {
    "name": "ipython",
    "version": 3
   },
   "file_extension": ".py",
   "mimetype": "text/x-python",
   "name": "python",
   "nbconvert_exporter": "python",
   "pygments_lexer": "ipython3",
   "version": "3.8.5"
  }
 },
 "nbformat": 4,
 "nbformat_minor": 4
}
